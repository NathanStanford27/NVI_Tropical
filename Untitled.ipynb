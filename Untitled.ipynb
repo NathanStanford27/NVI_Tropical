{
 "cells": [
  {
   "cell_type": "code",
   "execution_count": 1,
   "metadata": {},
   "outputs": [],
   "source": [
    "import numpy as np\n",
    "case = np.load(\"../D06_JUN2019_mini_assess_case.npz\")"
   ]
  },
  {
   "cell_type": "code",
   "execution_count": 2,
   "metadata": {},
   "outputs": [
    {
     "data": {
      "text/plain": [
       "['latitude',\n",
       " 'longitude',\n",
       " 'M12norm',\n",
       " 'M13norm',\n",
       " 'M14norm',\n",
       " 'M15norm',\n",
       " 'M16norm',\n",
       " 'BTD1516norm',\n",
       " 'DNB_FMN',\n",
       " 'DNB_log_FMN',\n",
       " 'M12',\n",
       " 'M13',\n",
       " 'M14',\n",
       " 'M15',\n",
       " 'M16',\n",
       " 'DNB',\n",
       " 'channels',\n",
       " 'samples']"
      ]
     },
     "execution_count": 2,
     "metadata": {},
     "output_type": "execute_result"
    }
   ],
   "source": [
    "case.files"
   ]
  },
  {
   "cell_type": "code",
   "execution_count": 3,
   "metadata": {},
   "outputs": [
    {
     "data": {
      "text/plain": [
       "array(['latitude', 'longitude', 'M12norm', 'M13norm', 'M14norm',\n",
       "       'M15norm', 'M16norm', 'BTD1516norm', 'DNB_FMN', 'DNB_log_FMN',\n",
       "       'M12', 'M13', 'M14', 'M15', 'M16', 'DNB'], dtype='<U11')"
      ]
     },
     "execution_count": 3,
     "metadata": {},
     "output_type": "execute_result"
    }
   ],
   "source": [
    "case['channels']"
   ]
  },
  {
   "cell_type": "code",
   "execution_count": 4,
   "metadata": {},
   "outputs": [
    {
     "data": {
      "text/plain": [
       "(1, 3056, 3759)"
      ]
     },
     "execution_count": 4,
     "metadata": {},
     "output_type": "execute_result"
    }
   ],
   "source": [
    "case['latitude'].shape"
   ]
  },
  {
   "cell_type": "code",
   "execution_count": 6,
   "metadata": {},
   "outputs": [
    {
     "data": {
      "text/plain": [
       "(17.094957, -2.3644753, 13.186245, -6.3202844)"
      ]
     },
     "execution_count": 6,
     "metadata": {},
     "output_type": "execute_result"
    }
   ],
   "source": [
    "UL = case['latitude'][0,0,0]\n",
    "UR = case['latitude'][0,-1,0]\n",
    "LL = case['latitude'][0,0,-1]\n",
    "LR = case['latitude'][0,-1,-1]\n",
    "UL,UR,LL,LR\n",
    "\n"
   ]
  },
  {
   "cell_type": "code",
   "execution_count": 7,
   "metadata": {},
   "outputs": [
    {
     "data": {
      "text/plain": [
       "(-138.05112, -141.99496, -111.97539, -116.70511)"
      ]
     },
     "execution_count": 7,
     "metadata": {},
     "output_type": "execute_result"
    }
   ],
   "source": [
    "UL = case['longitude'][0,0,0]\n",
    "UR = case['longitude'][0,-1,0]\n",
    "LL = case['longitude'][0,0,-1]\n",
    "LR = case['longitude'][0,-1,-1]\n",
    "UL,UR,LL,LR"
   ]
  },
  {
   "cell_type": "code",
   "execution_count": 19,
   "metadata": {},
   "outputs": [
    {
     "name": "stdout",
     "output_type": "stream",
     "text": [
      "shape is (3056, 3759)  (rows, columns)\n",
      "  (0, 0): 17.1 -138.1\n",
      " (0, -1): 13.2 -112.0\n",
      " (-1, 0): -2.4 -142.0\n",
      "(-1, -1): -6.3 -116.7\n"
     ]
    }
   ],
   "source": [
    "print(f\"shape is {lat.shape}  (rows, columns)\")\n",
    "lat, lon = case['latitude'][0], case['longitude'][0]\n",
    "for point in [(0, 0), (0, -1), (-1, 0), (-1, -1)]:\n",
    "    p = str(point)\n",
    "    print(f\"{p:>8}: {lat[point]:.1f} {lon[point]:.1f}\")"
   ]
  },
  {
   "cell_type": "code",
   "execution_count": 20,
   "metadata": {},
   "outputs": [],
   "source": [
    "#helper functions for  COLE drawing\n",
    "def show_byte_img(arr, name='temp.png', **args):\n",
    "    clip_lo, clip_hi = np.array([np.sum(arr < 0), np.sum(arr > 256)]) * 100 / arr.size\n",
    "    #print(f'clipping low/high: {clip_lo:.1f}% {clip_hi:.1f}%')\n",
    "    b = arr.clip(min=0, max=255).astype('uint8')\n",
    "    Image.fromarray(b).save(name)\n",
    "    #dis.display(dis.Image(name, **args))\n",
    "\n",
    "def standardize(arr, mean=150, std_dev=50, invert=1):\n",
    "    norm = (arr - arr.mean()) / arr.std()\n",
    "    return (norm * invert * std_dev) + mean\n",
    "\n",
    "def scale(arr, percent_tail=2, percent_top=None, invert=False):\n",
    "    left, right = (percent_tail/2, percent_tail/2) if percent_top is None \\\n",
    "                  else (percent_tail, percent_top)\n",
    "    norm = (arr - arr.mean()) / arr.std()\n",
    "    normi = norm * (1 if not invert else -1)\n",
    "    sort_arr = np.sort(normi.flatten())\n",
    "    left, right = int(sort_arr.size * left / 100), int(sort_arr.size * right / 100)\n",
    "    #print(f'left={left} right={right}')\n",
    "    lo, hi = sort_arr[left], sort_arr[-(1 + right)]\n",
    "    #print(lo, hi)\n",
    "    byte_scale = 256 / (hi - lo)\n",
    "    offset = 0 - lo * byte_scale\n",
    "    #print(f'byte_scale={byte_scale:.2f} offset={offset:.2f}')\n",
    "    return (normi * byte_scale) + offset\n",
    "\n",
    "# #drawmy COLE data\n",
    "def mkIMG ():\n",
    "    import pathlib\n",
    "    p = pathlib.Path(\"IMAGES\")\n",
    "    p.mkdir(exist_ok = True)\n",
    "    return p\n",
    "    \n",
    "def draw_COLE(data_dic, name): \n",
    "    imagedir = mkIMG()\n",
    "    # TORS9999 = np.nan_to_num(TORS, copy=True, nan=9999, posinf=None, neginf=None)\n",
    "    for i in range(len(data_dic['M12'])): #patches\n",
    "        print(f\"starting COLe pics on patch {i}\")\n",
    "        for label in data_dic:\n",
    "            image_array = data_dic[label][i]\n",
    "            p = imagedir / f'{name}_{label}_{i}.png'\n",
    "            show_byte_img(scale(image_array), name = str(p))"
   ]
  },
  {
   "cell_type": "code",
   "execution_count": null,
   "metadata": {},
   "outputs": [],
   "source": []
  }
 ],
 "metadata": {
  "kernelspec": {
   "display_name": "Python 3",
   "language": "python",
   "name": "python3"
  },
  "language_info": {
   "codemirror_mode": {
    "name": "ipython",
    "version": 3
   },
   "file_extension": ".py",
   "mimetype": "text/x-python",
   "name": "python",
   "nbconvert_exporter": "python",
   "pygments_lexer": "ipython3",
   "version": "3.8.5"
  }
 },
 "nbformat": 4,
 "nbformat_minor": 5
}
